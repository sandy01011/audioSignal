{
 "cells": [
  {
   "cell_type": "code",
   "execution_count": 1,
   "metadata": {},
   "outputs": [],
   "source": [
    "import pandas as pd"
   ]
  },
  {
   "cell_type": "code",
   "execution_count": 140,
   "metadata": {},
   "outputs": [
    {
     "name": "stdout",
     "output_type": "stream",
     "text": [
      "Empty DataFrame\n",
      "Columns: [Timestamp, Inet, RX Packets, TX Packets, Errors]\n",
      "Index: []\n"
     ]
    }
   ],
   "source": [
    "import re\n",
    "import pandas as pd\n",
    "\n",
    "# Define the regular expression pattern to extract the required fields\n",
    "regex_pattern = r'^(\\d{4}-\\d{2}-\\d{2} \\d{2}:\\d{2}:\\d{2}),.*inet\\s(\\d+\\.\\d+\\.\\d+\\.\\d+).*RX packets (\\d+).*TX packets (\\d+).*errors (\\d+).*'\n",
    "\n",
    "# Create an empty list to store the extracted data\n",
    "data = []\n",
    "\n",
    "# Open the file for reading\n",
    "with open('file.csv', 'r') as f:\n",
    "    # Read each line of the file\n",
    "    for line in f:\n",
    "        # Use regex to extract the required fields from the line\n",
    "        match = re.match(regex_pattern, line)\n",
    "        if match:\n",
    "            # Extract the timestamp and values from the match object\n",
    "            timestamp = match.group(1)\n",
    "            inet = match.group(2)\n",
    "            rx_packets = int(match.group(3))\n",
    "            tx_packets = int(match.group(4))\n",
    "            errors = int(match.group(5))\n",
    "            # Append the extracted data to the list\n",
    "            data.append([timestamp, inet, rx_packets, tx_packets, errors])\n",
    "\n",
    "# Create a pandas DataFrame from the extracted data and assign column names\n",
    "df = pd.DataFrame(data, columns=['Timestamp', 'Inet', 'RX Packets', 'TX Packets', 'Errors'])\n",
    "\n",
    "# Print the DataFrame\n",
    "print(df)\n"
   ]
  },
  {
   "cell_type": "code",
   "execution_count": 138,
   "metadata": {},
   "outputs": [
    {
     "name": "stdout",
     "output_type": "stream",
     "text": [
      "<class 'list'> 6\n",
      "inet\n",
      "223.189.52.101\n",
      "['223.189.52.101']\n",
      "<class 'list'> 6\n",
      "inet6\n",
      "fe80::9c12:5170:ade:ef32\n",
      "['fe80::9c12:5170:ade:ef32']\n",
      "<class 'list'> 6\n",
      "inet6\n",
      "2401:4900:a:800d::5\n",
      "['2401:4900:a:800d::5']\n",
      "<class 'list'> 5\n",
      "ether\n",
      "84:16:0c:57:71:80\n",
      "['84:16:0c:57:71:80']\n",
      "<class 'list'> 7\n",
      "RX\n",
      "packets\n",
      "['packets']\n",
      "<class 'list'> 9\n",
      "RX\n",
      "errors\n",
      "['errors']\n",
      "<class 'list'> 7\n",
      "TX\n",
      "packets\n",
      "['packets']\n",
      "<class 'list'> 11\n",
      "TX\n",
      "errors\n",
      "['errors']\n",
      "<class 'list'> 0\n"
     ]
    },
    {
     "ename": "IndexError",
     "evalue": "list index out of range",
     "output_type": "error",
     "traceback": [
      "\u001b[0;31m---------------------------------------------------------------------------\u001b[0m",
      "\u001b[0;31mIndexError\u001b[0m                                Traceback (most recent call last)",
      "Cell \u001b[0;32mIn[138], line 1\u001b[0m\n\u001b[0;32m----> 1\u001b[0m df \u001b[39m=\u001b[39m extract_data(\u001b[39m'\u001b[39;49m\u001b[39mfile.csv\u001b[39;49m\u001b[39m'\u001b[39;49m)\n\u001b[1;32m      2\u001b[0m \u001b[39m#print(df)\u001b[39;00m\n",
      "Cell \u001b[0;32mIn[137], line 30\u001b[0m, in \u001b[0;36mextract_data\u001b[0;34m(filename)\u001b[0m\n\u001b[1;32m     27\u001b[0m parts \u001b[39m=\u001b[39m line\u001b[39m.\u001b[39mstrip()\u001b[39m.\u001b[39msplit()\n\u001b[1;32m     28\u001b[0m \u001b[39mprint\u001b[39m(\u001b[39mtype\u001b[39m(parts), \u001b[39mlen\u001b[39m(parts))\n\u001b[0;32m---> 30\u001b[0m \u001b[39mprint\u001b[39m(parts[\u001b[39m0\u001b[39;49m])\n\u001b[1;32m     31\u001b[0m \u001b[39mprint\u001b[39m(parts[\u001b[39m1\u001b[39m])\n\u001b[1;32m     32\u001b[0m parts1 \u001b[39m=\u001b[39m parts[\u001b[39m1\u001b[39m]\u001b[39m.\u001b[39msplit()\n",
      "\u001b[0;31mIndexError\u001b[0m: list index out of range"
     ]
    }
   ],
   "source": [
    "df = extract_data('file.csv')\n",
    "#print(df)\n"
   ]
  },
  {
   "cell_type": "markdown",
   "metadata": {},
   "source": []
  },
  {
   "cell_type": "code",
   "execution_count": null,
   "metadata": {},
   "outputs": [],
   "source": []
  },
  {
   "cell_type": "code",
   "execution_count": 39,
   "metadata": {},
   "outputs": [
    {
     "data": {
      "text/plain": [
       "(2, 23364, (3894, 6))"
      ]
     },
     "execution_count": 39,
     "metadata": {},
     "output_type": "execute_result"
    }
   ],
   "source": [
    "rdf.ndim, rdf.size, rdf.shape"
   ]
  },
  {
   "cell_type": "code",
   "execution_count": 40,
   "metadata": {},
   "outputs": [
    {
     "data": {
      "text/plain": [
       "Index(['2023-02-16 13:51:55', 'bond0: flags=5187<UP', 'BROADCAST', 'RUNNING',\n",
       "       'MASTER', 'MULTICAST>  mtu 9216'],\n",
       "      dtype='object')"
      ]
     },
     "execution_count": 40,
     "metadata": {},
     "output_type": "execute_result"
    }
   ],
   "source": [
    "rdf.columns"
   ]
  }
 ],
 "metadata": {
  "kernelspec": {
   "display_name": "drish",
   "language": "python",
   "name": "python3"
  },
  "language_info": {
   "codemirror_mode": {
    "name": "ipython",
    "version": 3
   },
   "file_extension": ".py",
   "mimetype": "text/x-python",
   "name": "python",
   "nbconvert_exporter": "python",
   "pygments_lexer": "ipython3",
   "version": "3.9.16"
  },
  "orig_nbformat": 4,
  "vscode": {
   "interpreter": {
    "hash": "70142ff7c990d83155e3c783cff12a25075f2a986c268657a4defc1a134f33b1"
   }
  }
 },
 "nbformat": 4,
 "nbformat_minor": 2
}
